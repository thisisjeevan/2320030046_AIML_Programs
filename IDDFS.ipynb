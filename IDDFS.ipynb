{
  "nbformat": 4,
  "nbformat_minor": 0,
  "metadata": {
    "colab": {
      "provenance": [],
      "authorship_tag": "ABX9TyPIMofDdDQKajHvyvQh/n/z",
      "include_colab_link": true
    },
    "kernelspec": {
      "name": "python3",
      "display_name": "Python 3"
    },
    "language_info": {
      "name": "python"
    }
  },
  "cells": [
    {
      "cell_type": "markdown",
      "metadata": {
        "id": "view-in-github",
        "colab_type": "text"
      },
      "source": [
        "<a href=\"https://colab.research.google.com/github/thisisjeevan/2320030046_AIML_Programs/blob/main/IDDFS.ipynb\" target=\"_parent\"><img src=\"https://colab.research.google.com/assets/colab-badge.svg\" alt=\"Open In Colab\"/></a>"
      ]
    },
    {
      "cell_type": "code",
      "execution_count": 1,
      "metadata": {
        "colab": {
          "base_uri": "https://localhost:8080/"
        },
        "id": "6g7k4Z1vbg5H",
        "outputId": "61656005-ba02-4524-b56e-b7ee51a2d19f"
      },
      "outputs": [
        {
          "output_type": "stream",
          "name": "stdout",
          "text": [
            "Iterative Deepening Search starting from node 'A':\n",
            "Searching at depth: 0\n",
            "Searching at depth: 1\n",
            "Searching at depth: 2\n",
            "Target F found at depth 2\n"
          ]
        },
        {
          "output_type": "execute_result",
          "data": {
            "text/plain": [
              "True"
            ]
          },
          "metadata": {},
          "execution_count": 1
        }
      ],
      "source": [
        "def dfs_limited(graph, node, target, depth, visited=None):\n",
        "    if visited is None:\n",
        "        visited = set()\n",
        "\n",
        "    visited.add(node)\n",
        "\n",
        "    # If target is found, return True\n",
        "    if node == target:\n",
        "        return True\n",
        "\n",
        "    # If depth limit reached, return False\n",
        "    if depth <= 0:\n",
        "        return False\n",
        "\n",
        "    # Recur for all adjacent vertices\n",
        "    for neighbor in graph[node]:\n",
        "        if neighbor not in visited:\n",
        "            if dfs_limited(graph, neighbor, target, depth - 1, visited):\n",
        "                return True\n",
        "\n",
        "    return False\n",
        "\n",
        "def iterative_deepening_search(graph, start, target, max_depth):\n",
        "    for depth in range(max_depth + 1):\n",
        "        print(f\"Searching at depth: {depth}\")\n",
        "        visited = set()\n",
        "        if dfs_limited(graph, start, target, depth, visited):\n",
        "            print(f\"Target {target} found at depth {depth}\")\n",
        "            return True\n",
        "    print(f\"Target {target} not found within depth {max_depth}\")\n",
        "    return False\n",
        "\n",
        "# Example graph represented as an adjacency list\n",
        "graph = {\n",
        "    'A': ['B', 'C'],\n",
        "    'B': ['D', 'E'],\n",
        "    'C': ['F'],\n",
        "    'D': [],\n",
        "    'E': ['F'],\n",
        "    'F': []\n",
        "}\n",
        "\n",
        "# Start IDS from node 'A' looking for node 'F' with max depth of 3\n",
        "print(\"Iterative Deepening Search starting from node 'A':\")\n",
        "iterative_deepening_search(graph, 'A', 'F', 3)"
      ]
    }
  ]
}