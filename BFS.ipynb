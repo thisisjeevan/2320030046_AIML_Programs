{
  "nbformat": 4,
  "nbformat_minor": 0,
  "metadata": {
    "colab": {
      "provenance": [],
      "authorship_tag": "ABX9TyOb5QIoTnJECMDWngMYESgH",
      "include_colab_link": true
    },
    "kernelspec": {
      "name": "python3",
      "display_name": "Python 3"
    },
    "language_info": {
      "name": "python"
    }
  },
  "cells": [
    {
      "cell_type": "markdown",
      "metadata": {
        "id": "view-in-github",
        "colab_type": "text"
      },
      "source": [
        "<a href=\"https://colab.research.google.com/github/thisisjeevan/2320030046_AIML_Programs/blob/main/BFS.ipynb\" target=\"_parent\"><img src=\"https://colab.research.google.com/assets/colab-badge.svg\" alt=\"Open In Colab\"/></a>"
      ]
    },
    {
      "cell_type": "code",
      "execution_count": null,
      "metadata": {
        "colab": {
          "base_uri": "https://localhost:8080/"
        },
        "id": "iqqloIV61fp5",
        "outputId": "90ec6616-931f-46d0-fd37-e5fd59ece0fa"
      },
      "outputs": [
        {
          "output_type": "stream",
          "name": "stdout",
          "text": [
            "Following is the Breadth-First Search\n",
            "7 8 "
          ]
        }
      ],
      "source": [
        "graph = {\n",
        "  '5' : ['3','7'],\n",
        "  '3' : ['2', '4'],\n",
        "  '7' : ['8'],\n",
        "  '2' : [],\n",
        "  '4' : ['8'],\n",
        "  '8' : []\n",
        "}\n",
        "\n",
        "visited = []\n",
        "queue = []\n",
        "\n",
        "def bfs(visited, graph, node):\n",
        "    visited.append(node)\n",
        "    queue.append(node)\n",
        "\n",
        "    while queue:\n",
        "        s = queue.pop(0)\n",
        "        print(s, end = \" \")\n",
        "\n",
        "        for neighbour in graph[s]:\n",
        "            if neighbour not in visited:\n",
        "                visited.append(neighbour)\n",
        "                queue.append(neighbour)\n",
        "\n",
        "print(\"Following is the Breadth-First Search\")\n",
        "bfs(visited, graph, '7')"
      ]
    },
    {
      "cell_type": "code",
      "source": [
        "graph = {\n",
        "    'a' : ['b', 'c'],\n",
        "    'b' : ['d', 'e'],\n",
        "    'c' : ['f'],\n",
        "    'd' : [],\n",
        "    'e' : ['f'],\n",
        "    'f' : []\n",
        "}\n",
        "\n",
        "visited = []\n",
        "queue = []\n",
        "\n",
        "def bfs(visited, graph, node):\n",
        "  visited.append(node)\n",
        "  queue.append(node)\n",
        "\n",
        "  while queue:\n",
        "    s = queue.pop(0)\n",
        "    print(s, end = \" \")\n",
        "\n",
        "    for neighbour in graph[s]:\n",
        "      if neighbour not in visited:\n",
        "        visited.append(neighbour)\n",
        "        queue.append(neighbour)\n",
        "\n",
        "print(\"Following is the Breadth-First Search\")\n",
        "bfs(visited, graph, 'a')"
      ],
      "metadata": {
        "colab": {
          "base_uri": "https://localhost:8080/"
        },
        "id": "vt__pKql1pmL",
        "outputId": "79e4c336-4681-4b6d-cc9a-d3cdd1d4adec"
      },
      "execution_count": 1,
      "outputs": [
        {
          "output_type": "stream",
          "name": "stdout",
          "text": [
            "Following is the Breadth-First Search\n",
            "a b c d e f "
          ]
        }
      ]
    }
  ]
}